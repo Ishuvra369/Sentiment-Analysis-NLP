{
 "cells": [
  {
   "cell_type": "markdown",
   "id": "e86ab9d4",
   "metadata": {},
   "source": [
    "# Sentiment Analysis "
   ]
  },
  {
   "cell_type": "code",
   "execution_count": 1,
   "id": "4d1e868c",
   "metadata": {
    "scrolled": true
   },
   "outputs": [
    {
     "name": "stderr",
     "output_type": "stream",
     "text": [
      "[nltk_data] Downloading package vader_lexicon to\n",
      "[nltk_data]     C:\\Users\\Henry\\AppData\\Roaming\\nltk_data...\n",
      "[nltk_data]   Package vader_lexicon is already up-to-date!\n"
     ]
    },
    {
     "data": {
      "text/plain": [
       "True"
      ]
     },
     "execution_count": 1,
     "metadata": {},
     "output_type": "execute_result"
    }
   ],
   "source": [
    "import nltk\n",
    "nltk.download('vader_lexicon')"
   ]
  },
  {
   "cell_type": "code",
   "execution_count": 2,
   "id": "be4158ad",
   "metadata": {},
   "outputs": [],
   "source": [
    "import spacy\n",
    "nlp = spacy.load('en_core_web_lg')"
   ]
  },
  {
   "cell_type": "code",
   "execution_count": 3,
   "id": "c7d2e04d",
   "metadata": {},
   "outputs": [
    {
     "data": {
      "text/plain": [
       "array([  1.2746  ,   0.46242 ,  -1.1829  ,  -5.2661  ,  -2.7128  ,\n",
       "         1.8521  ,  -0.94273 ,   2.1865  ,   6.503   ,   0.6704  ,\n",
       "         1.5361  ,   2.5992  ,  -0.36233 ,   4.3965  ,  -6.5644  ,\n",
       "         1.6141  ,  -1.2897  ,   2.1184  ,  -0.63654 ,  -3.4572  ,\n",
       "        -4.3771  ,   4.2074  ,  -3.6411  ,  -0.97214 ,   1.3253  ,\n",
       "        -2.3125  ,  -3.6531  ,  -2.8398  ,   2.7913  ,  -1.53    ,\n",
       "        -2.9984  ,  -2.6357  ,   0.50615 ,  -2.6925  ,   4.3401  ,\n",
       "        -5.6017  ,   0.045691,   4.3832  ,  -0.19535 ,  -1.0751  ,\n",
       "         0.32172 ,   2.4395  ,   4.6638  ,   3.4471  ,  -3.3847  ,\n",
       "        -1.8238  ,   0.70212 ,   0.58557 ,   5.0032  ,  -3.1072  ,\n",
       "         1.2364  ,   7.4595  ,   0.057368,   1.0111  ,  -1.0827  ,\n",
       "         0.69113 ,   2.8009  ,  -3.4383  ,  -1.0599  ,  -2.2627  ,\n",
       "        -5.149   ,  -5.0636  ,   3.1405  ,   1.0793  ,  -0.72892 ,\n",
       "        -3.9939  ,  -0.69551 ,  -0.55767 ,   3.2555  ,  -2.9449  ,\n",
       "         4.7114  ,   1.6388  ,   1.3828  ,   1.4255  ,  -3.2334  ,\n",
       "        -2.274   ,  -1.8136  ,   2.2966  ,   2.5462  ,   1.0722  ,\n",
       "        -0.73447 ,   1.2148  ,  -0.9196  ,  -0.065012,   2.088   ,\n",
       "         0.57002 ,   3.5746  ,   1.7192  ,  -8.335   ,   0.71079 ,\n",
       "         0.91314 ,  -5.0107  ,   1.899   ,  -4.4658  ,   4.7993  ,\n",
       "        -0.39899 ,  -2.673   ,  -2.9354  ,   4.304   ,   1.4336  ,\n",
       "         3.7121  ,   0.34882 ,   4.6512  ,  -4.5731  ,  -4.5665  ,\n",
       "         1.5988  ,  -0.50383 ,   0.95857 ,   0.68728 ,  -0.39976 ,\n",
       "        -3.1922  ,   4.4363  ,  -0.69479 ,  -1.9528  ,   4.9376  ,\n",
       "         2.7259  ,   2.2485  ,   5.5734  ,   2.5842  ,   4.7836  ,\n",
       "        -1.0274  ,   2.2703  ,  -2.0696  ,  -1.0642  ,  -4.932   ,\n",
       "        -2.274   ,   4.1409  ,   0.73313 ,   2.1889  ,  -0.098888,\n",
       "         1.6472  ,  -2.3985  ,   2.5911  ,   3.6026  ,   1.885   ,\n",
       "         5.7822  ,  -1.4481  ,   1.8914  , -10.044   ,  -5.7452  ,\n",
       "        -4.3224  ,  -3.854   ,   2.3084  ,  -0.84018 ,  -0.40526 ,\n",
       "         4.7741  ,  -2.3271  ,   7.064   ,   0.95753 ,  -2.356   ,\n",
       "         0.83953 ,   0.40004 ,   0.33743 ,   0.8376  ,   3.9285  ,\n",
       "         0.05955 ,   2.4422  ,   4.3492  ,   3.9861  ,   2.1043  ,\n",
       "        -1.0197  ,  -0.61752 ,  -0.42999 ,  -0.1014  ,  -5.9571  ,\n",
       "        -0.53818 ,  -1.7797  ,   1.7446  ,   2.3934  ,  -0.50263 ,\n",
       "        -1.6222  ,  -0.37372 ,  -6.8938  ,   0.55018 ,  -2.267   ,\n",
       "         0.64912 ,   3.1525  ,  -2.2541  ,  -4.0384  ,   3.206   ,\n",
       "         0.14962 ,  -2.6662  ,   0.18167 ,   5.0028  ,   2.1521  ,\n",
       "         0.92419 ,   5.4163  ,  -2.2408  ,   1.6585  ,  -5.1625  ,\n",
       "         5.029   ,   0.1026  ,  -0.44542 ,   2.0557  ,   3.7778  ,\n",
       "         3.8679  ,  -2.7135  ,   5.3242  ,  -3.2916  ,   5.6421  ,\n",
       "         5.0466  ,   1.6072  ,  -1.3206  ,   4.2044  ,  -0.33793 ,\n",
       "        -3.1139  ,   2.8841  ,  -3.1565  ,  -2.9832  ,  -0.23235 ,\n",
       "         2.3259  ,   3.5477  ,  -2.1299  ,  -1.8344  ,   2.7271  ,\n",
       "         1.5568  ,   5.6865  ,   0.9412  ,  -2.6412  ,  -5.3254  ,\n",
       "         1.3494  ,  -0.47159 ,   2.4979  ,  -1.5568  ,  -1.6911  ,\n",
       "        -2.1842  ,   6.0319  ,   0.022573,   2.3824  ,  -1.1002  ,\n",
       "         0.90216 ,  -1.9113  ,   1.5527  ,   5.7413  ,  -3.1956  ,\n",
       "         0.68655 ,  -1.6068  ,   1.7404  ,  -3.2142  ,   6.4783  ,\n",
       "         1.7548  ,  -2.9795  ,   0.97631 ,  -0.018354,  -0.6379  ,\n",
       "         0.80559 ,   3.1923  ,   3.3335  ,   4.3068  ,  -1.0819  ,\n",
       "        -1.3839  ,  -4.7626  ,  -4.6637  ,  -1.2201  ,  -3.2741  ,\n",
       "         1.5204  ,   0.78119 ,   8.7339  ,   1.6009  ,  -0.79332 ,\n",
       "         5.8416  ,  -1.485   ,   1.5978  ,   2.9746  ,  -0.30759 ,\n",
       "        -1.8023  ,  -4.8344  ,   1.2817  ,  -2.5469  ,   2.6517  ,\n",
       "         1.4881  ,   2.1952  ,  -0.12652 ,   1.2223  ,   0.44763 ,\n",
       "        -3.1445  ,  -2.2051  ,  -4.1785  ,  -3.6539  ,   5.1929  ,\n",
       "         0.78457 ,  -1.2312  ,   5.5624  ,  -1.8462  ,   6.1262  ,\n",
       "        -1.6653  ,  -2.7557  ,  -0.066465,  -3.6362  ,   5.2005  ,\n",
       "        -1.2865  ,   2.8855  ,   6.1219  ,   1.7824  ,   1.4264  ,\n",
       "        10.628   ,  -0.36028 ,   1.9268  ,  -7.835   ,   0.57865 ],\n",
       "      dtype=float32)"
      ]
     },
     "execution_count": 3,
     "metadata": {},
     "output_type": "execute_result"
    }
   ],
   "source": [
    "nlp(u'lion').vector # mathematical values"
   ]
  },
  {
   "cell_type": "code",
   "execution_count": 4,
   "id": "b422c767",
   "metadata": {},
   "outputs": [
    {
     "data": {
      "text/plain": [
       "(300,)"
      ]
     },
     "execution_count": 4,
     "metadata": {},
     "output_type": "execute_result"
    }
   ],
   "source": [
    "nlp(u'lion').vector.shape"
   ]
  },
  {
   "cell_type": "code",
   "execution_count": 5,
   "id": "fc74e73b",
   "metadata": {},
   "outputs": [
    {
     "data": {
      "text/plain": [
       "(300,)"
      ]
     },
     "execution_count": 5,
     "metadata": {},
     "output_type": "execute_result"
    }
   ],
   "source": [
    "nlp(u'A Quick brown fox jumps over the lazy dog').vector.shape"
   ]
  },
  {
   "cell_type": "code",
   "execution_count": 6,
   "id": "6f103322",
   "metadata": {},
   "outputs": [],
   "source": [
    "# Creating a three-token Doc object:\n",
    "\n",
    "tokens = nlp(u'lion cat pet')"
   ]
  },
  {
   "cell_type": "code",
   "execution_count": 7,
   "id": "69013e11",
   "metadata": {},
   "outputs": [
    {
     "name": "stdout",
     "output_type": "stream",
     "text": [
      "lion lion\n",
      "lion cat\n",
      "lion pet\n",
      "cat lion\n",
      "cat cat\n",
      "cat pet\n",
      "pet lion\n",
      "pet cat\n",
      "pet pet\n"
     ]
    }
   ],
   "source": [
    "# Iterating through token combinations:\n",
    "\n",
    "for token1 in tokens:\n",
    "    for token2 in tokens:\n",
    "        print(token1.text, token2.text)"
   ]
  },
  {
   "cell_type": "code",
   "execution_count": 8,
   "id": "695af68f",
   "metadata": {},
   "outputs": [
    {
     "name": "stdout",
     "output_type": "stream",
     "text": [
      "lion lion 1.0\n",
      "lion cat 0.3854507803916931\n",
      "lion pet 0.20031584799289703\n",
      "cat lion 0.3854507803916931\n",
      "cat cat 1.0\n",
      "cat pet 0.732966423034668\n",
      "pet lion 0.20031584799289703\n",
      "pet cat 0.732966423034668\n",
      "pet pet 1.0\n"
     ]
    }
   ],
   "source": [
    "for token1 in tokens:\n",
    "    for token2 in tokens:\n",
    "        print(token1.text, token2.text, token1.similarity(token2))"
   ]
  },
  {
   "cell_type": "code",
   "execution_count": 9,
   "id": "e28b9c3b",
   "metadata": {},
   "outputs": [
    {
     "data": {
      "text/plain": [
       "0.4145525455932417"
      ]
     },
     "execution_count": 9,
     "metadata": {},
     "output_type": "execute_result"
    }
   ],
   "source": [
    "# These words are not similar\n",
    "\n",
    "nlp(u'lion').similarity(nlp(u'dandelion'))"
   ]
  },
  {
   "cell_type": "code",
   "execution_count": 10,
   "id": "9fe723d0",
   "metadata": {},
   "outputs": [
    {
     "name": "stderr",
     "output_type": "stream",
     "text": [
      "[nltk_data] Downloading package vader_lexicon to\n",
      "[nltk_data]     C:\\Users\\Henry\\AppData\\Roaming\\nltk_data...\n",
      "[nltk_data]   Package vader_lexicon is already up-to-date!\n"
     ]
    },
    {
     "data": {
      "text/plain": [
       "True"
      ]
     },
     "execution_count": 10,
     "metadata": {},
     "output_type": "execute_result"
    }
   ],
   "source": [
    "import nltk\n",
    "nltk.download('vader_lexicon')"
   ]
  },
  {
   "cell_type": "code",
   "execution_count": 11,
   "id": "81f99a73",
   "metadata": {},
   "outputs": [],
   "source": [
    "from nltk.sentiment.vader import SentimentIntensityAnalyzer\n",
    "sid = SentimentIntensityAnalyzer()"
   ]
  },
  {
   "cell_type": "code",
   "execution_count": 12,
   "id": "0a395e0e",
   "metadata": {},
   "outputs": [
    {
     "data": {
      "text/plain": [
       "{'neg': 0.0, 'neu': 0.508, 'pos': 0.492, 'compound': 0.4404}"
      ]
     },
     "execution_count": 12,
     "metadata": {},
     "output_type": "execute_result"
    }
   ],
   "source": [
    "a = 'Avengers was a good movie.'\n",
    "sid.polarity_scores(a)"
   ]
  },
  {
   "cell_type": "code",
   "execution_count": 13,
   "id": "e75ad778",
   "metadata": {},
   "outputs": [
    {
     "data": {
      "text/plain": [
       "{'neg': 0.0, 'neu': 0.425, 'pos': 0.575, 'compound': 0.8877}"
      ]
     },
     "execution_count": 13,
     "metadata": {},
     "output_type": "execute_result"
    }
   ],
   "source": [
    "a = 'Endgame was the best, most awesome movie EVER MADE!!!'\n",
    "sid.polarity_scores(a)"
   ]
  },
  {
   "cell_type": "code",
   "execution_count": 14,
   "id": "b8b8fd9f",
   "metadata": {},
   "outputs": [
    {
     "data": {
      "text/plain": [
       "{'neg': 0.477, 'neu': 0.523, 'pos': 0.0, 'compound': -0.8074}"
      ]
     },
     "execution_count": 14,
     "metadata": {},
     "output_type": "execute_result"
    }
   ],
   "source": [
    "a = 'This was the worst film to ever disgrace the screen.'\n",
    "sid.polarity_scores(a)"
   ]
  },
  {
   "cell_type": "code",
   "execution_count": 15,
   "id": "1bddbddd",
   "metadata": {},
   "outputs": [
    {
     "data": {
      "text/html": [
       "<div>\n",
       "<style scoped>\n",
       "    .dataframe tbody tr th:only-of-type {\n",
       "        vertical-align: middle;\n",
       "    }\n",
       "\n",
       "    .dataframe tbody tr th {\n",
       "        vertical-align: top;\n",
       "    }\n",
       "\n",
       "    .dataframe thead th {\n",
       "        text-align: right;\n",
       "    }\n",
       "</style>\n",
       "<table border=\"1\" class=\"dataframe\">\n",
       "  <thead>\n",
       "    <tr style=\"text-align: right;\">\n",
       "      <th></th>\n",
       "      <th>label</th>\n",
       "      <th>review</th>\n",
       "    </tr>\n",
       "  </thead>\n",
       "  <tbody>\n",
       "    <tr>\n",
       "      <th>0</th>\n",
       "      <td>pos</td>\n",
       "      <td>Stuning even for the non-gamer: This sound tra...</td>\n",
       "    </tr>\n",
       "    <tr>\n",
       "      <th>1</th>\n",
       "      <td>pos</td>\n",
       "      <td>The best soundtrack ever to anything.: I'm rea...</td>\n",
       "    </tr>\n",
       "    <tr>\n",
       "      <th>2</th>\n",
       "      <td>pos</td>\n",
       "      <td>Amazing!: This soundtrack is my favorite music...</td>\n",
       "    </tr>\n",
       "    <tr>\n",
       "      <th>3</th>\n",
       "      <td>pos</td>\n",
       "      <td>Excellent Soundtrack: I truly like this soundt...</td>\n",
       "    </tr>\n",
       "    <tr>\n",
       "      <th>4</th>\n",
       "      <td>pos</td>\n",
       "      <td>Remember, Pull Your Jaw Off The Floor After He...</td>\n",
       "    </tr>\n",
       "  </tbody>\n",
       "</table>\n",
       "</div>"
      ],
      "text/plain": [
       "  label                                             review\n",
       "0   pos  Stuning even for the non-gamer: This sound tra...\n",
       "1   pos  The best soundtrack ever to anything.: I'm rea...\n",
       "2   pos  Amazing!: This soundtrack is my favorite music...\n",
       "3   pos  Excellent Soundtrack: I truly like this soundt...\n",
       "4   pos  Remember, Pull Your Jaw Off The Floor After He..."
      ]
     },
     "execution_count": 15,
     "metadata": {},
     "output_type": "execute_result"
    }
   ],
   "source": [
    "# Using VADER to analyzing Amazon Reviews\n",
    "\n",
    "import numpy as np\n",
    "import pandas as pd\n",
    "\n",
    "df = pd.read_csv(r\"E:\\Python for Data Science and Machine Learning\\amazonreviews.tsv\", sep='\\t')\n",
    "df.head()"
   ]
  },
  {
   "cell_type": "code",
   "execution_count": 16,
   "id": "d4a39860",
   "metadata": {},
   "outputs": [
    {
     "data": {
      "text/plain": [
       "neg    5097\n",
       "pos    4903\n",
       "Name: label, dtype: int64"
      ]
     },
     "execution_count": 16,
     "metadata": {},
     "output_type": "execute_result"
    }
   ],
   "source": [
    "df['label'].value_counts()"
   ]
  },
  {
   "cell_type": "code",
   "execution_count": 17,
   "id": "31fb1a93",
   "metadata": {},
   "outputs": [
    {
     "data": {
      "text/plain": [
       "label     0\n",
       "review    0\n",
       "dtype: int64"
      ]
     },
     "execution_count": 17,
     "metadata": {},
     "output_type": "execute_result"
    }
   ],
   "source": [
    "# Checking missing values\n",
    "\n",
    "df.isnull().sum()"
   ]
  },
  {
   "cell_type": "code",
   "execution_count": 18,
   "id": "6914ecf6",
   "metadata": {},
   "outputs": [
    {
     "data": {
      "text/plain": [
       "{'neg': 0.088, 'neu': 0.669, 'pos': 0.243, 'compound': 0.9454}"
      ]
     },
     "execution_count": 18,
     "metadata": {},
     "output_type": "execute_result"
    }
   ],
   "source": [
    "sid.polarity_scores(df.loc[0]['review'])"
   ]
  },
  {
   "cell_type": "code",
   "execution_count": 21,
   "id": "922181e5",
   "metadata": {},
   "outputs": [
    {
     "name": "stderr",
     "output_type": "stream",
     "text": [
      "C:\\Users\\Henry\\AppData\\Local\\Temp\\ipykernel_3780\\327137009.py:1: FutureWarning: Passing a negative integer is deprecated in version 1.0 and will not be supported in future version. Instead, use None to not limit the column width.\n",
      "  pd.set_option('display.max_colwidth', -1)\n"
     ]
    },
    {
     "data": {
      "text/plain": [
       "label     pos                                                                                                                                                                                                                                                                                                                                                                                                                                       \n",
       "review    Stuning even for the non-gamer: This sound track was beautiful! It paints the senery in your mind so well I would recomend it even to people who hate vid. game music! I have played the game Chrono Cross but out of all of the games I have ever played it has the best music! It backs away from crude keyboarding and takes a fresher step with grate guitars and soulful orchestras. It would impress anyone who cares to listen! ^_^\n",
       "Name: 0, dtype: object"
      ]
     },
     "execution_count": 21,
     "metadata": {},
     "output_type": "execute_result"
    }
   ],
   "source": [
    "pd.set_option('display.max_colwidth', -1)\n",
    "df.loc[0]"
   ]
  },
  {
   "cell_type": "code",
   "execution_count": 22,
   "id": "c248148f",
   "metadata": {},
   "outputs": [
    {
     "data": {
      "text/plain": [
       "{'neg': 0.085, 'neu': 0.915, 'pos': 0.0, 'compound': -0.5017}"
      ]
     },
     "execution_count": 22,
     "metadata": {},
     "output_type": "execute_result"
    }
   ],
   "source": [
    "sid.polarity_scores(df.loc[27]['review'])"
   ]
  },
  {
   "cell_type": "code",
   "execution_count": 23,
   "id": "6a585da0",
   "metadata": {},
   "outputs": [
    {
     "data": {
      "text/plain": [
       "label     neg                                                                                                                                                                                                                                                                                           \n",
       "review    Disappointed: I read the reviews,made my purchase and was very disappointed. The charger is convenient by charging all four batteries at once but the charge only lasts a very short time. I now have to go and find batteries that will give me longer life than the kodak NiMH AA batteries.\n",
       "Name: 27, dtype: object"
      ]
     },
     "execution_count": 23,
     "metadata": {},
     "output_type": "execute_result"
    }
   ],
   "source": [
    "df.loc[27]"
   ]
  },
  {
   "cell_type": "code",
   "execution_count": 25,
   "id": "7e3f9663",
   "metadata": {},
   "outputs": [
    {
     "data": {
      "text/html": [
       "<div>\n",
       "<style scoped>\n",
       "    .dataframe tbody tr th:only-of-type {\n",
       "        vertical-align: middle;\n",
       "    }\n",
       "\n",
       "    .dataframe tbody tr th {\n",
       "        vertical-align: top;\n",
       "    }\n",
       "\n",
       "    .dataframe thead th {\n",
       "        text-align: right;\n",
       "    }\n",
       "</style>\n",
       "<table border=\"1\" class=\"dataframe\">\n",
       "  <thead>\n",
       "    <tr style=\"text-align: right;\">\n",
       "      <th></th>\n",
       "      <th>label</th>\n",
       "      <th>review</th>\n",
       "      <th>scores</th>\n",
       "    </tr>\n",
       "  </thead>\n",
       "  <tbody>\n",
       "    <tr>\n",
       "      <th>0</th>\n",
       "      <td>pos</td>\n",
       "      <td>Stuning even for the non-gamer: This sound track was beautiful! It paints th...</td>\n",
       "      <td>{'neg': 0.088, 'neu': 0.669, 'pos': 0.243, 'compound': 0.9454}</td>\n",
       "    </tr>\n",
       "    <tr>\n",
       "      <th>1</th>\n",
       "      <td>pos</td>\n",
       "      <td>The best soundtrack ever to anything.: I'm reading a lot of reviews saying t...</td>\n",
       "      <td>{'neg': 0.018, 'neu': 0.837, 'pos': 0.145, 'compound': 0.8957}</td>\n",
       "    </tr>\n",
       "    <tr>\n",
       "      <th>2</th>\n",
       "      <td>pos</td>\n",
       "      <td>Amazing!: This soundtrack is my favorite music of all time, hands down. The ...</td>\n",
       "      <td>{'neg': 0.04, 'neu': 0.692, 'pos': 0.268, 'compound': 0.9858}</td>\n",
       "    </tr>\n",
       "    <tr>\n",
       "      <th>3</th>\n",
       "      <td>pos</td>\n",
       "      <td>Excellent Soundtrack: I truly like this soundtrack and I enjoy video game mu...</td>\n",
       "      <td>{'neg': 0.09, 'neu': 0.615, 'pos': 0.295, 'compound': 0.9814}</td>\n",
       "    </tr>\n",
       "    <tr>\n",
       "      <th>4</th>\n",
       "      <td>pos</td>\n",
       "      <td>Remember, Pull Your Jaw Off The Floor After Hearing it: If you've played the...</td>\n",
       "      <td>{'neg': 0.0, 'neu': 0.746, 'pos': 0.254, 'compound': 0.9781}</td>\n",
       "    </tr>\n",
       "  </tbody>\n",
       "</table>\n",
       "</div>"
      ],
      "text/plain": [
       "  label  \\\n",
       "0   pos   \n",
       "1   pos   \n",
       "2   pos   \n",
       "3   pos   \n",
       "4   pos   \n",
       "\n",
       "                                                                            review  \\\n",
       "0  Stuning even for the non-gamer: This sound track was beautiful! It paints th...   \n",
       "1  The best soundtrack ever to anything.: I'm reading a lot of reviews saying t...   \n",
       "2  Amazing!: This soundtrack is my favorite music of all time, hands down. The ...   \n",
       "3  Excellent Soundtrack: I truly like this soundtrack and I enjoy video game mu...   \n",
       "4  Remember, Pull Your Jaw Off The Floor After Hearing it: If you've played the...   \n",
       "\n",
       "                                                           scores  \n",
       "0  {'neg': 0.088, 'neu': 0.669, 'pos': 0.243, 'compound': 0.9454}  \n",
       "1  {'neg': 0.018, 'neu': 0.837, 'pos': 0.145, 'compound': 0.8957}  \n",
       "2   {'neg': 0.04, 'neu': 0.692, 'pos': 0.268, 'compound': 0.9858}  \n",
       "3   {'neg': 0.09, 'neu': 0.615, 'pos': 0.295, 'compound': 0.9814}  \n",
       "4    {'neg': 0.0, 'neu': 0.746, 'pos': 0.254, 'compound': 0.9781}  "
      ]
     },
     "execution_count": 25,
     "metadata": {},
     "output_type": "execute_result"
    }
   ],
   "source": [
    "# Adding Scores and Labels to the DataFrame\n",
    "\n",
    "df['scores'] = df['review'].apply(lambda review: sid.polarity_scores(review))\n",
    "pd.set_option('display.max_colwidth', 80)\n",
    "df.head()"
   ]
  },
  {
   "cell_type": "code",
   "execution_count": 26,
   "id": "1b262cbf",
   "metadata": {},
   "outputs": [
    {
     "data": {
      "text/html": [
       "<div>\n",
       "<style scoped>\n",
       "    .dataframe tbody tr th:only-of-type {\n",
       "        vertical-align: middle;\n",
       "    }\n",
       "\n",
       "    .dataframe tbody tr th {\n",
       "        vertical-align: top;\n",
       "    }\n",
       "\n",
       "    .dataframe thead th {\n",
       "        text-align: right;\n",
       "    }\n",
       "</style>\n",
       "<table border=\"1\" class=\"dataframe\">\n",
       "  <thead>\n",
       "    <tr style=\"text-align: right;\">\n",
       "      <th></th>\n",
       "      <th>label</th>\n",
       "      <th>review</th>\n",
       "      <th>scores</th>\n",
       "      <th>compound</th>\n",
       "    </tr>\n",
       "  </thead>\n",
       "  <tbody>\n",
       "    <tr>\n",
       "      <th>0</th>\n",
       "      <td>pos</td>\n",
       "      <td>Stuning even for the non-gamer: This sound track was beautiful! It paints th...</td>\n",
       "      <td>{'neg': 0.088, 'neu': 0.669, 'pos': 0.243, 'compound': 0.9454}</td>\n",
       "      <td>0.9454</td>\n",
       "    </tr>\n",
       "    <tr>\n",
       "      <th>1</th>\n",
       "      <td>pos</td>\n",
       "      <td>The best soundtrack ever to anything.: I'm reading a lot of reviews saying t...</td>\n",
       "      <td>{'neg': 0.018, 'neu': 0.837, 'pos': 0.145, 'compound': 0.8957}</td>\n",
       "      <td>0.8957</td>\n",
       "    </tr>\n",
       "    <tr>\n",
       "      <th>2</th>\n",
       "      <td>pos</td>\n",
       "      <td>Amazing!: This soundtrack is my favorite music of all time, hands down. The ...</td>\n",
       "      <td>{'neg': 0.04, 'neu': 0.692, 'pos': 0.268, 'compound': 0.9858}</td>\n",
       "      <td>0.9858</td>\n",
       "    </tr>\n",
       "    <tr>\n",
       "      <th>3</th>\n",
       "      <td>pos</td>\n",
       "      <td>Excellent Soundtrack: I truly like this soundtrack and I enjoy video game mu...</td>\n",
       "      <td>{'neg': 0.09, 'neu': 0.615, 'pos': 0.295, 'compound': 0.9814}</td>\n",
       "      <td>0.9814</td>\n",
       "    </tr>\n",
       "    <tr>\n",
       "      <th>4</th>\n",
       "      <td>pos</td>\n",
       "      <td>Remember, Pull Your Jaw Off The Floor After Hearing it: If you've played the...</td>\n",
       "      <td>{'neg': 0.0, 'neu': 0.746, 'pos': 0.254, 'compound': 0.9781}</td>\n",
       "      <td>0.9781</td>\n",
       "    </tr>\n",
       "  </tbody>\n",
       "</table>\n",
       "</div>"
      ],
      "text/plain": [
       "  label  \\\n",
       "0   pos   \n",
       "1   pos   \n",
       "2   pos   \n",
       "3   pos   \n",
       "4   pos   \n",
       "\n",
       "                                                                            review  \\\n",
       "0  Stuning even for the non-gamer: This sound track was beautiful! It paints th...   \n",
       "1  The best soundtrack ever to anything.: I'm reading a lot of reviews saying t...   \n",
       "2  Amazing!: This soundtrack is my favorite music of all time, hands down. The ...   \n",
       "3  Excellent Soundtrack: I truly like this soundtrack and I enjoy video game mu...   \n",
       "4  Remember, Pull Your Jaw Off The Floor After Hearing it: If you've played the...   \n",
       "\n",
       "                                                           scores  compound  \n",
       "0  {'neg': 0.088, 'neu': 0.669, 'pos': 0.243, 'compound': 0.9454}    0.9454  \n",
       "1  {'neg': 0.018, 'neu': 0.837, 'pos': 0.145, 'compound': 0.8957}    0.8957  \n",
       "2   {'neg': 0.04, 'neu': 0.692, 'pos': 0.268, 'compound': 0.9858}    0.9858  \n",
       "3   {'neg': 0.09, 'neu': 0.615, 'pos': 0.295, 'compound': 0.9814}    0.9814  \n",
       "4    {'neg': 0.0, 'neu': 0.746, 'pos': 0.254, 'compound': 0.9781}    0.9781  "
      ]
     },
     "execution_count": 26,
     "metadata": {},
     "output_type": "execute_result"
    }
   ],
   "source": [
    "# Extracting the compund score\n",
    "\n",
    "df['compound']  = df['scores'].apply(lambda score_dict: score_dict['compound'])\n",
    "df.head()"
   ]
  },
  {
   "cell_type": "code",
   "execution_count": 27,
   "id": "ed8c4977",
   "metadata": {},
   "outputs": [
    {
     "data": {
      "text/html": [
       "<div>\n",
       "<style scoped>\n",
       "    .dataframe tbody tr th:only-of-type {\n",
       "        vertical-align: middle;\n",
       "    }\n",
       "\n",
       "    .dataframe tbody tr th {\n",
       "        vertical-align: top;\n",
       "    }\n",
       "\n",
       "    .dataframe thead th {\n",
       "        text-align: right;\n",
       "    }\n",
       "</style>\n",
       "<table border=\"1\" class=\"dataframe\">\n",
       "  <thead>\n",
       "    <tr style=\"text-align: right;\">\n",
       "      <th></th>\n",
       "      <th>label</th>\n",
       "      <th>review</th>\n",
       "      <th>scores</th>\n",
       "      <th>compound</th>\n",
       "      <th>comp_score</th>\n",
       "    </tr>\n",
       "  </thead>\n",
       "  <tbody>\n",
       "    <tr>\n",
       "      <th>0</th>\n",
       "      <td>pos</td>\n",
       "      <td>Stuning even for the non-gamer: This sound track was beautiful! It paints th...</td>\n",
       "      <td>{'neg': 0.088, 'neu': 0.669, 'pos': 0.243, 'compound': 0.9454}</td>\n",
       "      <td>0.9454</td>\n",
       "      <td>positive</td>\n",
       "    </tr>\n",
       "    <tr>\n",
       "      <th>1</th>\n",
       "      <td>pos</td>\n",
       "      <td>The best soundtrack ever to anything.: I'm reading a lot of reviews saying t...</td>\n",
       "      <td>{'neg': 0.018, 'neu': 0.837, 'pos': 0.145, 'compound': 0.8957}</td>\n",
       "      <td>0.8957</td>\n",
       "      <td>positive</td>\n",
       "    </tr>\n",
       "    <tr>\n",
       "      <th>2</th>\n",
       "      <td>pos</td>\n",
       "      <td>Amazing!: This soundtrack is my favorite music of all time, hands down. The ...</td>\n",
       "      <td>{'neg': 0.04, 'neu': 0.692, 'pos': 0.268, 'compound': 0.9858}</td>\n",
       "      <td>0.9858</td>\n",
       "      <td>positive</td>\n",
       "    </tr>\n",
       "    <tr>\n",
       "      <th>3</th>\n",
       "      <td>pos</td>\n",
       "      <td>Excellent Soundtrack: I truly like this soundtrack and I enjoy video game mu...</td>\n",
       "      <td>{'neg': 0.09, 'neu': 0.615, 'pos': 0.295, 'compound': 0.9814}</td>\n",
       "      <td>0.9814</td>\n",
       "      <td>positive</td>\n",
       "    </tr>\n",
       "    <tr>\n",
       "      <th>4</th>\n",
       "      <td>pos</td>\n",
       "      <td>Remember, Pull Your Jaw Off The Floor After Hearing it: If you've played the...</td>\n",
       "      <td>{'neg': 0.0, 'neu': 0.746, 'pos': 0.254, 'compound': 0.9781}</td>\n",
       "      <td>0.9781</td>\n",
       "      <td>positive</td>\n",
       "    </tr>\n",
       "  </tbody>\n",
       "</table>\n",
       "</div>"
      ],
      "text/plain": [
       "  label  \\\n",
       "0   pos   \n",
       "1   pos   \n",
       "2   pos   \n",
       "3   pos   \n",
       "4   pos   \n",
       "\n",
       "                                                                            review  \\\n",
       "0  Stuning even for the non-gamer: This sound track was beautiful! It paints th...   \n",
       "1  The best soundtrack ever to anything.: I'm reading a lot of reviews saying t...   \n",
       "2  Amazing!: This soundtrack is my favorite music of all time, hands down. The ...   \n",
       "3  Excellent Soundtrack: I truly like this soundtrack and I enjoy video game mu...   \n",
       "4  Remember, Pull Your Jaw Off The Floor After Hearing it: If you've played the...   \n",
       "\n",
       "                                                           scores  compound  \\\n",
       "0  {'neg': 0.088, 'neu': 0.669, 'pos': 0.243, 'compound': 0.9454}    0.9454   \n",
       "1  {'neg': 0.018, 'neu': 0.837, 'pos': 0.145, 'compound': 0.8957}    0.8957   \n",
       "2   {'neg': 0.04, 'neu': 0.692, 'pos': 0.268, 'compound': 0.9858}    0.9858   \n",
       "3   {'neg': 0.09, 'neu': 0.615, 'pos': 0.295, 'compound': 0.9814}    0.9814   \n",
       "4    {'neg': 0.0, 'neu': 0.746, 'pos': 0.254, 'compound': 0.9781}    0.9781   \n",
       "\n",
       "  comp_score  \n",
       "0   positive  \n",
       "1   positive  \n",
       "2   positive  \n",
       "3   positive  \n",
       "4   positive  "
      ]
     },
     "execution_count": 27,
     "metadata": {},
     "output_type": "execute_result"
    }
   ],
   "source": [
    "# Creating positive & negative values\n",
    "\n",
    "df['comp_score'] = df['compound'].apply(lambda c: 'positive' if c >=0 else 'negative')\n",
    "df.head()"
   ]
  },
  {
   "cell_type": "code",
   "execution_count": 31,
   "id": "b389ac57",
   "metadata": {},
   "outputs": [
    {
     "data": {
      "text/html": [
       "<div>\n",
       "<style scoped>\n",
       "    .dataframe tbody tr th:only-of-type {\n",
       "        vertical-align: middle;\n",
       "    }\n",
       "\n",
       "    .dataframe tbody tr th {\n",
       "        vertical-align: top;\n",
       "    }\n",
       "\n",
       "    .dataframe thead th {\n",
       "        text-align: right;\n",
       "    }\n",
       "</style>\n",
       "<table border=\"1\" class=\"dataframe\">\n",
       "  <thead>\n",
       "    <tr style=\"text-align: right;\">\n",
       "      <th></th>\n",
       "      <th>label</th>\n",
       "      <th>review</th>\n",
       "    </tr>\n",
       "  </thead>\n",
       "  <tbody>\n",
       "    <tr>\n",
       "      <th>0</th>\n",
       "      <td>neg</td>\n",
       "      <td>how do films like mouse hunt get into theatres ? \\r\\nisn't there a law or so...</td>\n",
       "    </tr>\n",
       "    <tr>\n",
       "      <th>1</th>\n",
       "      <td>neg</td>\n",
       "      <td>some talented actresses are blessed with a demonstrated wide acting range wh...</td>\n",
       "    </tr>\n",
       "    <tr>\n",
       "      <th>2</th>\n",
       "      <td>pos</td>\n",
       "      <td>this has been an extraordinary year for australian films . \\r\\n \" shine \" ha...</td>\n",
       "    </tr>\n",
       "    <tr>\n",
       "      <th>3</th>\n",
       "      <td>pos</td>\n",
       "      <td>according to hollywood movies made in last few decades , life in small town ...</td>\n",
       "    </tr>\n",
       "    <tr>\n",
       "      <th>4</th>\n",
       "      <td>neg</td>\n",
       "      <td>my first press screening of 1998 and already i've gotten a prime candidate f...</td>\n",
       "    </tr>\n",
       "  </tbody>\n",
       "</table>\n",
       "</div>"
      ],
      "text/plain": [
       "  label  \\\n",
       "0   neg   \n",
       "1   neg   \n",
       "2   pos   \n",
       "3   pos   \n",
       "4   neg   \n",
       "\n",
       "                                                                            review  \n",
       "0  how do films like mouse hunt get into theatres ? \\r\\nisn't there a law or so...  \n",
       "1  some talented actresses are blessed with a demonstrated wide acting range wh...  \n",
       "2  this has been an extraordinary year for australian films . \\r\\n \" shine \" ha...  \n",
       "3  according to hollywood movies made in last few decades , life in small town ...  \n",
       "4  my first press screening of 1998 and already i've gotten a prime candidate f...  "
      ]
     },
     "execution_count": 31,
     "metadata": {},
     "output_type": "execute_result"
    }
   ],
   "source": [
    "import numpy as np\n",
    "import pandas as pd\n",
    "\n",
    "df = pd.read_csv(r\"E:\\Python for Data Science and Machine Learning\\moviereviews.tsv\", sep='\\t')\n",
    "df.head()"
   ]
  },
  {
   "cell_type": "code",
   "execution_count": 32,
   "id": "5d8a485b",
   "metadata": {},
   "outputs": [
    {
     "data": {
      "text/plain": [
       "label      0\n",
       "review    35\n",
       "dtype: int64"
      ]
     },
     "execution_count": 32,
     "metadata": {},
     "output_type": "execute_result"
    }
   ],
   "source": [
    "# Checking missing values\n",
    "\n",
    "df.isnull().sum()"
   ]
  },
  {
   "cell_type": "code",
   "execution_count": 33,
   "id": "e13b00fd",
   "metadata": {},
   "outputs": [],
   "source": [
    "# Removing missing values\n",
    "\n",
    "df.dropna(inplace=True)"
   ]
  },
  {
   "cell_type": "code",
   "execution_count": 34,
   "id": "95bcc620",
   "metadata": {},
   "outputs": [
    {
     "data": {
      "text/plain": [
       "neg    983\n",
       "pos    982\n",
       "Name: label, dtype: int64"
      ]
     },
     "execution_count": 34,
     "metadata": {},
     "output_type": "execute_result"
    }
   ],
   "source": [
    "df['label'].value_counts()"
   ]
  },
  {
   "cell_type": "code",
   "execution_count": 35,
   "id": "01d0666f",
   "metadata": {},
   "outputs": [],
   "source": [
    "from nltk.sentiment.vader import SentimentIntensityAnalyzer\n",
    "sid = SentimentIntensityAnalyzer()"
   ]
  },
  {
   "cell_type": "code",
   "execution_count": 38,
   "id": "8363aca3",
   "metadata": {},
   "outputs": [
    {
     "data": {
      "text/html": [
       "<div>\n",
       "<style scoped>\n",
       "    .dataframe tbody tr th:only-of-type {\n",
       "        vertical-align: middle;\n",
       "    }\n",
       "\n",
       "    .dataframe tbody tr th {\n",
       "        vertical-align: top;\n",
       "    }\n",
       "\n",
       "    .dataframe thead th {\n",
       "        text-align: right;\n",
       "    }\n",
       "</style>\n",
       "<table border=\"1\" class=\"dataframe\">\n",
       "  <thead>\n",
       "    <tr style=\"text-align: right;\">\n",
       "      <th></th>\n",
       "      <th>label</th>\n",
       "      <th>review</th>\n",
       "      <th>scores</th>\n",
       "      <th>compound</th>\n",
       "      <th>comp_score</th>\n",
       "    </tr>\n",
       "  </thead>\n",
       "  <tbody>\n",
       "    <tr>\n",
       "      <th>0</th>\n",
       "      <td>neg</td>\n",
       "      <td>how do films like mouse hunt get into theatres ? \\r\\nisn't there a law or so...</td>\n",
       "      <td>{'neg': 0.121, 'neu': 0.778, 'pos': 0.101, 'compound': -0.9125}</td>\n",
       "      <td>-0.9125</td>\n",
       "      <td>negative</td>\n",
       "    </tr>\n",
       "    <tr>\n",
       "      <th>1</th>\n",
       "      <td>neg</td>\n",
       "      <td>some talented actresses are blessed with a demonstrated wide acting range wh...</td>\n",
       "      <td>{'neg': 0.12, 'neu': 0.775, 'pos': 0.105, 'compound': -0.8618}</td>\n",
       "      <td>-0.8618</td>\n",
       "      <td>negative</td>\n",
       "    </tr>\n",
       "    <tr>\n",
       "      <th>2</th>\n",
       "      <td>pos</td>\n",
       "      <td>this has been an extraordinary year for australian films . \\r\\n \" shine \" ha...</td>\n",
       "      <td>{'neg': 0.068, 'neu': 0.781, 'pos': 0.15, 'compound': 0.9951}</td>\n",
       "      <td>0.9951</td>\n",
       "      <td>positive</td>\n",
       "    </tr>\n",
       "    <tr>\n",
       "      <th>3</th>\n",
       "      <td>pos</td>\n",
       "      <td>according to hollywood movies made in last few decades , life in small town ...</td>\n",
       "      <td>{'neg': 0.071, 'neu': 0.782, 'pos': 0.147, 'compound': 0.9972}</td>\n",
       "      <td>0.9972</td>\n",
       "      <td>positive</td>\n",
       "    </tr>\n",
       "    <tr>\n",
       "      <th>4</th>\n",
       "      <td>neg</td>\n",
       "      <td>my first press screening of 1998 and already i've gotten a prime candidate f...</td>\n",
       "      <td>{'neg': 0.091, 'neu': 0.817, 'pos': 0.093, 'compound': -0.2484}</td>\n",
       "      <td>-0.2484</td>\n",
       "      <td>negative</td>\n",
       "    </tr>\n",
       "  </tbody>\n",
       "</table>\n",
       "</div>"
      ],
      "text/plain": [
       "  label  \\\n",
       "0   neg   \n",
       "1   neg   \n",
       "2   pos   \n",
       "3   pos   \n",
       "4   neg   \n",
       "\n",
       "                                                                            review  \\\n",
       "0  how do films like mouse hunt get into theatres ? \\r\\nisn't there a law or so...   \n",
       "1  some talented actresses are blessed with a demonstrated wide acting range wh...   \n",
       "2  this has been an extraordinary year for australian films . \\r\\n \" shine \" ha...   \n",
       "3  according to hollywood movies made in last few decades , life in small town ...   \n",
       "4  my first press screening of 1998 and already i've gotten a prime candidate f...   \n",
       "\n",
       "                                                            scores  compound  \\\n",
       "0  {'neg': 0.121, 'neu': 0.778, 'pos': 0.101, 'compound': -0.9125}   -0.9125   \n",
       "1   {'neg': 0.12, 'neu': 0.775, 'pos': 0.105, 'compound': -0.8618}   -0.8618   \n",
       "2    {'neg': 0.068, 'neu': 0.781, 'pos': 0.15, 'compound': 0.9951}    0.9951   \n",
       "3   {'neg': 0.071, 'neu': 0.782, 'pos': 0.147, 'compound': 0.9972}    0.9972   \n",
       "4  {'neg': 0.091, 'neu': 0.817, 'pos': 0.093, 'compound': -0.2484}   -0.2484   \n",
       "\n",
       "  comp_score  \n",
       "0   negative  \n",
       "1   negative  \n",
       "2   positive  \n",
       "3   positive  \n",
       "4   negative  "
      ]
     },
     "execution_count": 38,
     "metadata": {},
     "output_type": "execute_result"
    }
   ],
   "source": [
    "df['scores'] = df['review'].apply(lambda review: sid.polarity_scores(review))\n",
    "\n",
    "df['compound']  = df['scores'].apply(lambda score_dict: score_dict['compound'])\n",
    "\n",
    "df['comp_score'] = df['compound'].apply(lambda c: 'positive' if c >=0 else 'negative')\n",
    "\n",
    "pd.set_option('display.max_columns', None)\n",
    "\n",
    "df.head()"
   ]
  },
  {
   "cell_type": "code",
   "execution_count": null,
   "id": "792ec2b9",
   "metadata": {},
   "outputs": [],
   "source": []
  },
  {
   "cell_type": "code",
   "execution_count": null,
   "id": "0659522e",
   "metadata": {},
   "outputs": [],
   "source": []
  }
 ],
 "metadata": {
  "kernelspec": {
   "display_name": "Python 3 (ipykernel)",
   "language": "python",
   "name": "python3"
  },
  "language_info": {
   "codemirror_mode": {
    "name": "ipython",
    "version": 3
   },
   "file_extension": ".py",
   "mimetype": "text/x-python",
   "name": "python",
   "nbconvert_exporter": "python",
   "pygments_lexer": "ipython3",
   "version": "3.9.13"
  }
 },
 "nbformat": 4,
 "nbformat_minor": 5
}
